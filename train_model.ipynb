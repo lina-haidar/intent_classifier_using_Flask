{
 "cells": [
  {
   "cell_type": "code",
   "execution_count": 2,
   "id": "10766a53-ddbf-4b11-91ed-fc4711e4d266",
   "metadata": {},
   "outputs": [],
   "source": [
    "import numpy as np\n",
    "import pandas as pd\n",
    "import matplotlib.pyplot as plt\n",
    "from sklearn.utils import shuffle\n",
    "import tensorflow as tf\n",
    "from tensorflow import keras\n",
    "from tensorflow.keras.layers import LSTM, Dense, Bidirectional, Dropout, Dense, Activation, Flatten, Embedding\n",
    "from tensorflow.keras.preprocessing.text import Tokenizer\n",
    "from tensorflow.keras.preprocessing import sequence\n",
    "from tensorflow.keras.preprocessing.sequence import pad_sequences\n",
    "from tensorflow.keras.models import Sequential,Model,load_model\n",
    "from tensorflow.keras.optimizers import SGD"
   ]
  },
  {
   "cell_type": "markdown",
   "id": "640a1702-a09d-4cf9-b164-389ae9726a09",
   "metadata": {},
   "source": [
    "## Load the data "
   ]
  },
  {
   "cell_type": "code",
   "execution_count": 2,
   "id": "49122e7b-cc5c-4e08-accf-f041c5150db3",
   "metadata": {},
   "outputs": [],
   "source": [
    "columns = [\"text\",\"label\"]\n",
    "train = pd.read_csv(\"/Users/k/Downloads/ultimateai_ml_engineer_challenge/data/atis/train.tsv\", sep=\"\\t\", names=columns)\n",
    "test = pd.read_csv(\"/Users/k/Downloads/ultimateai_ml_engineer_challenge/data/atis/test.tsv\", sep=\"\\t\", names=columns)"
   ]
  },
  {
   "cell_type": "markdown",
   "id": "6774a769-3e6b-4c55-b672-c00d671d4fcc",
   "metadata": {},
   "source": [
    "### Combine both train and test data to make sure working on the same number of classes."
   ]
  },
  {
   "cell_type": "code",
   "execution_count": 3,
   "id": "512072ae-199f-4333-8258-690c73d46a06",
   "metadata": {},
   "outputs": [],
   "source": [
    "combined = pd.concat([train, test])\n",
    "combined = combined.sample(frac=1).reset_index(drop=True)"
   ]
  },
  {
   "cell_type": "code",
   "execution_count": 4,
   "id": "99fd9b31-0dcd-42d5-97ef-3a74254a19fb",
   "metadata": {},
   "outputs": [
    {
     "data": {
      "text/plain": [
       "26"
      ]
     },
     "execution_count": 4,
     "metadata": {},
     "output_type": "execute_result"
    }
   ],
   "source": [
    "len(combined['label'].unique())"
   ]
  },
  {
   "cell_type": "markdown",
   "id": "a21cd6ae-a4c0-44bc-b8fe-60ff94387f7e",
   "metadata": {},
   "source": [
    "### Convert the labels into one-hot encoded form"
   ]
  },
  {
   "cell_type": "code",
   "execution_count": 5,
   "id": "74d3a562-103b-4c2d-9f30-82ea3516fc83",
   "metadata": {
    "collapsed": true,
    "jupyter": {
     "outputs_hidden": true
    },
    "tags": []
   },
   "outputs": [
    {
     "data": {
      "text/html": [
       "<div>\n",
       "<style scoped>\n",
       "    .dataframe tbody tr th:only-of-type {\n",
       "        vertical-align: middle;\n",
       "    }\n",
       "\n",
       "    .dataframe tbody tr th {\n",
       "        vertical-align: top;\n",
       "    }\n",
       "\n",
       "    .dataframe thead th {\n",
       "        text-align: right;\n",
       "    }\n",
       "</style>\n",
       "<table border=\"1\" class=\"dataframe\">\n",
       "  <thead>\n",
       "    <tr style=\"text-align: right;\">\n",
       "      <th></th>\n",
       "      <th>text</th>\n",
       "      <th>abbreviation</th>\n",
       "      <th>aircraft</th>\n",
       "      <th>aircraft+flight+flight_no</th>\n",
       "      <th>airfare</th>\n",
       "      <th>airfare+flight</th>\n",
       "      <th>airfare+flight_time</th>\n",
       "      <th>airline</th>\n",
       "      <th>airline+flight_no</th>\n",
       "      <th>airport</th>\n",
       "      <th>...</th>\n",
       "      <th>flight+airline</th>\n",
       "      <th>flight_no</th>\n",
       "      <th>flight_no+airline</th>\n",
       "      <th>flight_time</th>\n",
       "      <th>ground_fare</th>\n",
       "      <th>ground_service</th>\n",
       "      <th>ground_service+ground_fare</th>\n",
       "      <th>meal</th>\n",
       "      <th>quantity</th>\n",
       "      <th>restriction</th>\n",
       "    </tr>\n",
       "  </thead>\n",
       "  <tbody>\n",
       "    <tr>\n",
       "      <th>0</th>\n",
       "      <td>i 'd like a morning flight from newark to los ...</td>\n",
       "      <td>0</td>\n",
       "      <td>0</td>\n",
       "      <td>0</td>\n",
       "      <td>0</td>\n",
       "      <td>0</td>\n",
       "      <td>0</td>\n",
       "      <td>0</td>\n",
       "      <td>0</td>\n",
       "      <td>0</td>\n",
       "      <td>...</td>\n",
       "      <td>0</td>\n",
       "      <td>0</td>\n",
       "      <td>0</td>\n",
       "      <td>0</td>\n",
       "      <td>0</td>\n",
       "      <td>0</td>\n",
       "      <td>0</td>\n",
       "      <td>0</td>\n",
       "      <td>0</td>\n",
       "      <td>0</td>\n",
       "    </tr>\n",
       "    <tr>\n",
       "      <th>1</th>\n",
       "      <td>give me the flights from chicago to seattle sa...</td>\n",
       "      <td>0</td>\n",
       "      <td>0</td>\n",
       "      <td>0</td>\n",
       "      <td>0</td>\n",
       "      <td>0</td>\n",
       "      <td>0</td>\n",
       "      <td>0</td>\n",
       "      <td>0</td>\n",
       "      <td>0</td>\n",
       "      <td>...</td>\n",
       "      <td>0</td>\n",
       "      <td>0</td>\n",
       "      <td>0</td>\n",
       "      <td>0</td>\n",
       "      <td>0</td>\n",
       "      <td>0</td>\n",
       "      <td>0</td>\n",
       "      <td>0</td>\n",
       "      <td>0</td>\n",
       "      <td>0</td>\n",
       "    </tr>\n",
       "    <tr>\n",
       "      <th>2</th>\n",
       "      <td>how much is the 718 am flight from las vegas t...</td>\n",
       "      <td>0</td>\n",
       "      <td>0</td>\n",
       "      <td>0</td>\n",
       "      <td>1</td>\n",
       "      <td>0</td>\n",
       "      <td>0</td>\n",
       "      <td>0</td>\n",
       "      <td>0</td>\n",
       "      <td>0</td>\n",
       "      <td>...</td>\n",
       "      <td>0</td>\n",
       "      <td>0</td>\n",
       "      <td>0</td>\n",
       "      <td>0</td>\n",
       "      <td>0</td>\n",
       "      <td>0</td>\n",
       "      <td>0</td>\n",
       "      <td>0</td>\n",
       "      <td>0</td>\n",
       "      <td>0</td>\n",
       "    </tr>\n",
       "    <tr>\n",
       "      <th>3</th>\n",
       "      <td>what is the latest us air flight leaving phila...</td>\n",
       "      <td>0</td>\n",
       "      <td>0</td>\n",
       "      <td>0</td>\n",
       "      <td>0</td>\n",
       "      <td>0</td>\n",
       "      <td>0</td>\n",
       "      <td>0</td>\n",
       "      <td>0</td>\n",
       "      <td>0</td>\n",
       "      <td>...</td>\n",
       "      <td>0</td>\n",
       "      <td>0</td>\n",
       "      <td>0</td>\n",
       "      <td>0</td>\n",
       "      <td>0</td>\n",
       "      <td>0</td>\n",
       "      <td>0</td>\n",
       "      <td>0</td>\n",
       "      <td>0</td>\n",
       "      <td>0</td>\n",
       "    </tr>\n",
       "    <tr>\n",
       "      <th>4</th>\n",
       "      <td>please list all flights from new york to miami...</td>\n",
       "      <td>0</td>\n",
       "      <td>0</td>\n",
       "      <td>0</td>\n",
       "      <td>0</td>\n",
       "      <td>0</td>\n",
       "      <td>0</td>\n",
       "      <td>0</td>\n",
       "      <td>0</td>\n",
       "      <td>0</td>\n",
       "      <td>...</td>\n",
       "      <td>0</td>\n",
       "      <td>0</td>\n",
       "      <td>0</td>\n",
       "      <td>0</td>\n",
       "      <td>0</td>\n",
       "      <td>0</td>\n",
       "      <td>0</td>\n",
       "      <td>0</td>\n",
       "      <td>0</td>\n",
       "      <td>0</td>\n",
       "    </tr>\n",
       "    <tr>\n",
       "      <th>...</th>\n",
       "      <td>...</td>\n",
       "      <td>...</td>\n",
       "      <td>...</td>\n",
       "      <td>...</td>\n",
       "      <td>...</td>\n",
       "      <td>...</td>\n",
       "      <td>...</td>\n",
       "      <td>...</td>\n",
       "      <td>...</td>\n",
       "      <td>...</td>\n",
       "      <td>...</td>\n",
       "      <td>...</td>\n",
       "      <td>...</td>\n",
       "      <td>...</td>\n",
       "      <td>...</td>\n",
       "      <td>...</td>\n",
       "      <td>...</td>\n",
       "      <td>...</td>\n",
       "      <td>...</td>\n",
       "      <td>...</td>\n",
       "      <td>...</td>\n",
       "    </tr>\n",
       "    <tr>\n",
       "      <th>5479</th>\n",
       "      <td>first flights and fares from pittsburgh to atl...</td>\n",
       "      <td>0</td>\n",
       "      <td>0</td>\n",
       "      <td>0</td>\n",
       "      <td>0</td>\n",
       "      <td>0</td>\n",
       "      <td>0</td>\n",
       "      <td>0</td>\n",
       "      <td>0</td>\n",
       "      <td>0</td>\n",
       "      <td>...</td>\n",
       "      <td>0</td>\n",
       "      <td>0</td>\n",
       "      <td>0</td>\n",
       "      <td>0</td>\n",
       "      <td>0</td>\n",
       "      <td>0</td>\n",
       "      <td>0</td>\n",
       "      <td>0</td>\n",
       "      <td>0</td>\n",
       "      <td>0</td>\n",
       "    </tr>\n",
       "    <tr>\n",
       "      <th>5480</th>\n",
       "      <td>what are all flights from san francisco to phi...</td>\n",
       "      <td>0</td>\n",
       "      <td>0</td>\n",
       "      <td>0</td>\n",
       "      <td>0</td>\n",
       "      <td>0</td>\n",
       "      <td>0</td>\n",
       "      <td>0</td>\n",
       "      <td>0</td>\n",
       "      <td>0</td>\n",
       "      <td>...</td>\n",
       "      <td>0</td>\n",
       "      <td>0</td>\n",
       "      <td>0</td>\n",
       "      <td>0</td>\n",
       "      <td>0</td>\n",
       "      <td>0</td>\n",
       "      <td>0</td>\n",
       "      <td>0</td>\n",
       "      <td>0</td>\n",
       "      <td>0</td>\n",
       "    </tr>\n",
       "    <tr>\n",
       "      <th>5481</th>\n",
       "      <td>find a nonstop flight between boston and washi...</td>\n",
       "      <td>0</td>\n",
       "      <td>0</td>\n",
       "      <td>0</td>\n",
       "      <td>0</td>\n",
       "      <td>0</td>\n",
       "      <td>0</td>\n",
       "      <td>0</td>\n",
       "      <td>0</td>\n",
       "      <td>0</td>\n",
       "      <td>...</td>\n",
       "      <td>0</td>\n",
       "      <td>0</td>\n",
       "      <td>0</td>\n",
       "      <td>0</td>\n",
       "      <td>0</td>\n",
       "      <td>0</td>\n",
       "      <td>0</td>\n",
       "      <td>0</td>\n",
       "      <td>0</td>\n",
       "      <td>0</td>\n",
       "    </tr>\n",
       "    <tr>\n",
       "      <th>5482</th>\n",
       "      <td>show me the flight schedule from pittsburgh to...</td>\n",
       "      <td>0</td>\n",
       "      <td>0</td>\n",
       "      <td>0</td>\n",
       "      <td>0</td>\n",
       "      <td>0</td>\n",
       "      <td>0</td>\n",
       "      <td>0</td>\n",
       "      <td>0</td>\n",
       "      <td>0</td>\n",
       "      <td>...</td>\n",
       "      <td>0</td>\n",
       "      <td>0</td>\n",
       "      <td>0</td>\n",
       "      <td>1</td>\n",
       "      <td>0</td>\n",
       "      <td>0</td>\n",
       "      <td>0</td>\n",
       "      <td>0</td>\n",
       "      <td>0</td>\n",
       "      <td>0</td>\n",
       "    </tr>\n",
       "    <tr>\n",
       "      <th>5483</th>\n",
       "      <td>show me all flights between san francisco and ...</td>\n",
       "      <td>0</td>\n",
       "      <td>0</td>\n",
       "      <td>0</td>\n",
       "      <td>0</td>\n",
       "      <td>0</td>\n",
       "      <td>0</td>\n",
       "      <td>0</td>\n",
       "      <td>0</td>\n",
       "      <td>0</td>\n",
       "      <td>...</td>\n",
       "      <td>0</td>\n",
       "      <td>0</td>\n",
       "      <td>0</td>\n",
       "      <td>0</td>\n",
       "      <td>0</td>\n",
       "      <td>0</td>\n",
       "      <td>0</td>\n",
       "      <td>0</td>\n",
       "      <td>0</td>\n",
       "      <td>0</td>\n",
       "    </tr>\n",
       "  </tbody>\n",
       "</table>\n",
       "<p>5484 rows × 27 columns</p>\n",
       "</div>"
      ],
      "text/plain": [
       "                                                   text  abbreviation  \\\n",
       "0     i 'd like a morning flight from newark to los ...             0   \n",
       "1     give me the flights from chicago to seattle sa...             0   \n",
       "2     how much is the 718 am flight from las vegas t...             0   \n",
       "3     what is the latest us air flight leaving phila...             0   \n",
       "4     please list all flights from new york to miami...             0   \n",
       "...                                                 ...           ...   \n",
       "5479  first flights and fares from pittsburgh to atl...             0   \n",
       "5480  what are all flights from san francisco to phi...             0   \n",
       "5481  find a nonstop flight between boston and washi...             0   \n",
       "5482  show me the flight schedule from pittsburgh to...             0   \n",
       "5483  show me all flights between san francisco and ...             0   \n",
       "\n",
       "      aircraft  aircraft+flight+flight_no  airfare  airfare+flight  \\\n",
       "0            0                          0        0               0   \n",
       "1            0                          0        0               0   \n",
       "2            0                          0        1               0   \n",
       "3            0                          0        0               0   \n",
       "4            0                          0        0               0   \n",
       "...        ...                        ...      ...             ...   \n",
       "5479         0                          0        0               0   \n",
       "5480         0                          0        0               0   \n",
       "5481         0                          0        0               0   \n",
       "5482         0                          0        0               0   \n",
       "5483         0                          0        0               0   \n",
       "\n",
       "      airfare+flight_time  airline  airline+flight_no  airport  ...  \\\n",
       "0                       0        0                  0        0  ...   \n",
       "1                       0        0                  0        0  ...   \n",
       "2                       0        0                  0        0  ...   \n",
       "3                       0        0                  0        0  ...   \n",
       "4                       0        0                  0        0  ...   \n",
       "...                   ...      ...                ...      ...  ...   \n",
       "5479                    0        0                  0        0  ...   \n",
       "5480                    0        0                  0        0  ...   \n",
       "5481                    0        0                  0        0  ...   \n",
       "5482                    0        0                  0        0  ...   \n",
       "5483                    0        0                  0        0  ...   \n",
       "\n",
       "      flight+airline  flight_no  flight_no+airline  flight_time  ground_fare  \\\n",
       "0                  0          0                  0            0            0   \n",
       "1                  0          0                  0            0            0   \n",
       "2                  0          0                  0            0            0   \n",
       "3                  0          0                  0            0            0   \n",
       "4                  0          0                  0            0            0   \n",
       "...              ...        ...                ...          ...          ...   \n",
       "5479               0          0                  0            0            0   \n",
       "5480               0          0                  0            0            0   \n",
       "5481               0          0                  0            0            0   \n",
       "5482               0          0                  0            1            0   \n",
       "5483               0          0                  0            0            0   \n",
       "\n",
       "      ground_service  ground_service+ground_fare  meal  quantity  restriction  \n",
       "0                  0                           0     0         0            0  \n",
       "1                  0                           0     0         0            0  \n",
       "2                  0                           0     0         0            0  \n",
       "3                  0                           0     0         0            0  \n",
       "4                  0                           0     0         0            0  \n",
       "...              ...                         ...   ...       ...          ...  \n",
       "5479               0                           0     0         0            0  \n",
       "5480               0                           0     0         0            0  \n",
       "5481               0                           0     0         0            0  \n",
       "5482               0                           0     0         0            0  \n",
       "5483               0                           0     0         0            0  \n",
       "\n",
       "[5484 rows x 27 columns]"
      ]
     },
     "execution_count": 5,
     "metadata": {},
     "output_type": "execute_result"
    }
   ],
   "source": [
    "one_hot = pd.get_dummies(combined['label'])\n",
    "# Drop column 'label' as it is now encoded\n",
    "df = combined.drop('label',axis = 1)\n",
    "# Join the encoded df\n",
    "df = df.join(one_hot)\n",
    "df  "
   ]
  },
  {
   "cell_type": "markdown",
   "id": "519765c3-b19f-4498-a4cf-174d0e9148b0",
   "metadata": {},
   "source": [
    "### Get x and y from the data"
   ]
  },
  {
   "cell_type": "code",
   "execution_count": 6,
   "id": "a4bb9eaf-703c-4417-be5e-4623546a07af",
   "metadata": {},
   "outputs": [],
   "source": [
    "X_train = df[\"text\"].values"
   ]
  },
  {
   "cell_type": "code",
   "execution_count": 7,
   "id": "a258a582-15a1-4019-bd2f-45c483075241",
   "metadata": {},
   "outputs": [
    {
     "name": "stderr",
     "output_type": "stream",
     "text": [
      "/Users/k/anaconda3/lib/python3.8/site-packages/pandas/core/indexes/base.py:4616: FutureWarning: Using a non-tuple sequence for multidimensional indexing is deprecated; use `arr[tuple(seq)]` instead of `arr[seq]`. In the future this will be interpreted as an array index, `arr[np.array(seq)]`, which will result either in an error or a different result.\n",
      "  result = getitem(key)\n"
     ]
    }
   ],
   "source": [
    "i,j = df.shape\n",
    "pos = [col+1 for col in range(j-1)]\n",
    "y_train = df[df.columns[[pos]]].values"
   ]
  },
  {
   "cell_type": "code",
   "execution_count": 23,
   "id": "91d40cbf-6b46-4387-a6ca-6f1362802282",
   "metadata": {},
   "outputs": [
    {
     "data": {
      "text/plain": [
       "Index(['abbreviation', 'aircraft', 'aircraft+flight+flight_no', 'airfare',\n",
       "       'airfare+flight', 'airfare+flight_time', 'airline', 'airline+flight_no',\n",
       "       'airport', 'capacity', 'cheapest', 'city', 'day_name', 'distance',\n",
       "       'flight', 'flight+airfare', 'flight+airline', 'flight_no',\n",
       "       'flight_no+airline', 'flight_time', 'ground_fare', 'ground_service',\n",
       "       'ground_service+ground_fare', 'meal', 'quantity', 'restriction'],\n",
       "      dtype='object')"
      ]
     },
     "execution_count": 23,
     "metadata": {},
     "output_type": "execute_result"
    }
   ],
   "source": [
    "classes = df.columns[[pos]]"
   ]
  },
  {
   "cell_type": "code",
   "execution_count": 8,
   "id": "92231c7a-26f1-42e5-b16c-4632b57d43db",
   "metadata": {},
   "outputs": [
    {
     "data": {
      "text/plain": [
       "((5484,), (5484, 26))"
      ]
     },
     "execution_count": 8,
     "metadata": {},
     "output_type": "execute_result"
    }
   ],
   "source": [
    "X_train.shape, y_train.shape"
   ]
  },
  {
   "cell_type": "code",
   "execution_count": 9,
   "id": "9f571a5d-c77c-4cd0-8b2c-e02a3abbd53f",
   "metadata": {},
   "outputs": [
    {
     "data": {
      "text/plain": [
       "('give me the flights from chicago to seattle saturday morning that have meals',\n",
       " array([0, 0, 0, 0, 0, 0, 0, 0, 0, 0, 0, 0, 0, 0, 1, 0, 0, 0, 0, 0, 0, 0,\n",
       "        0, 0, 0, 0], dtype=uint8))"
      ]
     },
     "execution_count": 9,
     "metadata": {},
     "output_type": "execute_result"
    }
   ],
   "source": [
    "X_train[1], y_train[1] "
   ]
  },
  {
   "cell_type": "markdown",
   "id": "a65c1339-d8d1-4f98-8689-b1fa7bfe5321",
   "metadata": {},
   "source": [
    "## Preprocessing\n",
    "Tokenize the X_train (the text).This means breaking the sentences into individuals and convert these individuals into numerical representations."
   ]
  },
  {
   "cell_type": "code",
   "execution_count": 10,
   "id": "7158c8b5-8c58-4a29-b747-90b951855840",
   "metadata": {},
   "outputs": [
    {
     "data": {
      "text/plain": [
       "(942, (5484,), (5484, 26))"
      ]
     },
     "execution_count": 10,
     "metadata": {},
     "output_type": "execute_result"
    }
   ],
   "source": [
    "text = X_train\n",
    "# text preprocessing\n",
    "Tokenizer = Tokenizer()\n",
    "Tokenizer.fit_on_texts(text) \n",
    "Tokenizer_vocab_size = len(Tokenizer.word_index) + 1\n",
    "Tokenizer_vocab_size, X_train.shape, y_train.shape"
   ]
  },
  {
   "cell_type": "code",
   "execution_count": 11,
   "id": "7aa42b58-4c28-4682-9260-8cc4e6236137",
   "metadata": {},
   "outputs": [
    {
     "data": {
      "text/plain": [
       "((3838, 4000), (1646, 4000))"
      ]
     },
     "execution_count": 11,
     "metadata": {},
     "output_type": "execute_result"
    }
   ],
   "source": [
    "samples = 1646 # 30% \n",
    "\n",
    "X_train = X_train[samples:] \n",
    "y_train = y_train[samples:] \n",
    "\n",
    "X_val = X_train[:samples] \n",
    "y_val = y_train[:samples] \n",
    "\n",
    "X_train_encoded_words = Tokenizer.texts_to_sequences(X_train)\n",
    "X_val_encoded_words = Tokenizer.texts_to_sequences(X_val)\n",
    "X_train_encoded_padded_words = sequence.pad_sequences(X_train_encoded_words, maxlen = 4000)\n",
    "X_val_encoded_padded_words = sequence.pad_sequences(X_val_encoded_words, maxlen = 4000)\n",
    "\n",
    "X_train_encoded_padded_words.shape, X_val_encoded_padded_words.shape"
   ]
  },
  {
   "cell_type": "code",
   "execution_count": 12,
   "id": "77a0e496-d60b-4e17-a5c2-3c01e4e0a635",
   "metadata": {},
   "outputs": [
    {
     "data": {
      "text/plain": [
       "(array([[  0,   0,   0, ...,  50,  53,  18],\n",
       "        [  0,   0,   0, ...,  18,   1,  12],\n",
       "        [  0,   0,   0, ..., 209, 100, 131],\n",
       "        ...,\n",
       "        [  0,   0,   0, ...,   5, 189, 245],\n",
       "        [  0,   0,   0, ...,  45, 495,  33],\n",
       "        [  0,   0,   0, ...,  20,   1,  24]], dtype=int32),\n",
       " array([[  0,   0,   0, ...,  50,  53,  18],\n",
       "        [  0,   0,   0, ...,  18,   1,  12],\n",
       "        [  0,   0,   0, ..., 209, 100, 131],\n",
       "        ...,\n",
       "        [  0,   0,   0, ..., 143, 132,  33],\n",
       "        [  0,   0,   0, ...,   1,  10,  17],\n",
       "        [  0,   0,   0, ...,  45, 187,  33]], dtype=int32))"
      ]
     },
     "execution_count": 12,
     "metadata": {},
     "output_type": "execute_result"
    }
   ],
   "source": [
    "X_val_encoded_padded_words, X_train_encoded_padded_words"
   ]
  },
  {
   "cell_type": "markdown",
   "id": "8cb005a6-46e9-4be8-bcf9-7bc1b505f5bf",
   "metadata": {},
   "source": [
    "## Build and Train the Model\n",
    "Use short-term memory (LSTM), which is an artificial recurrent neural network (RNN). "
   ]
  },
  {
   "cell_type": "code",
   "execution_count": 15,
   "id": "1949aead-c6bd-460a-a513-dcd0667f00fe",
   "metadata": {},
   "outputs": [
    {
     "name": "stdout",
     "output_type": "stream",
     "text": [
      "Model: \"sequential_1\"\n",
      "_________________________________________________________________\n",
      "Layer (type)                 Output Shape              Param #   \n",
      "=================================================================\n",
      "embedding_1 (Embedding)      (None, 4000, 32)          30144     \n",
      "_________________________________________________________________\n",
      "lstm_1 (LSTM)                (None, 10)                1720      \n",
      "_________________________________________________________________\n",
      "dropout_3 (Dropout)          (None, 10)                0         \n",
      "_________________________________________________________________\n",
      "dense_3 (Dense)              (None, 800)               8800      \n",
      "_________________________________________________________________\n",
      "dropout_4 (Dropout)          (None, 800)               0         \n",
      "_________________________________________________________________\n",
      "dense_4 (Dense)              (None, 200)               160200    \n",
      "_________________________________________________________________\n",
      "dropout_5 (Dropout)          (None, 200)               0         \n",
      "_________________________________________________________________\n",
      "dense_5 (Dense)              (None, 26)                5226      \n",
      "=================================================================\n",
      "Total params: 206,090\n",
      "Trainable params: 206,090\n",
      "Non-trainable params: 0\n",
      "_________________________________________________________________\n"
     ]
    }
   ],
   "source": [
    "model = Sequential()\n",
    "\n",
    "model.add(Embedding(Tokenizer_vocab_size, 32, input_length = 4000)) \n",
    "\n",
    "model.add(LSTM(10))\n",
    "model.add(Dropout(0.5))\n",
    "model.add(Dense(800, activation='relu'))\n",
    "model.add(Dropout(0.5))\n",
    "model.add(Dense(200, activation='relu'))\n",
    "model.add(Dropout(0.5))\n",
    "model.add(Dense(26, activation='softmax'))\n",
    "\n",
    "model.summary()"
   ]
  },
  {
   "cell_type": "code",
   "execution_count": 16,
   "id": "b441bffb-4571-4a8c-acbb-19530ea23d9f",
   "metadata": {},
   "outputs": [
    {
     "name": "stdout",
     "output_type": "stream",
     "text": [
      "Epoch 1/5\n",
      "120/120 [==============================] - 196s 2s/step - loss: 1.1486 - accuracy: 0.7418 - val_loss: 0.7325 - val_accuracy: 0.7953\n",
      "Epoch 2/5\n",
      "120/120 [==============================] - 192s 2s/step - loss: 0.7299 - accuracy: 0.8090 - val_loss: 0.5486 - val_accuracy: 0.8505\n",
      "Epoch 3/5\n",
      "120/120 [==============================] - 192s 2s/step - loss: 0.5946 - accuracy: 0.8421 - val_loss: 0.4294 - val_accuracy: 0.8809\n",
      "Epoch 4/5\n",
      "120/120 [==============================] - 191s 2s/step - loss: 0.5404 - accuracy: 0.8570 - val_loss: 0.3779 - val_accuracy: 0.8840\n",
      "Epoch 5/5\n",
      "120/120 [==============================] - 192s 2s/step - loss: 0.4531 - accuracy: 0.8742 - val_loss: 0.3592 - val_accuracy: 0.8906\n"
     ]
    }
   ],
   "source": [
    "\n",
    "Nadam = tf.keras.optimizers.Nadam(lr=0.002, beta_1=0.9, beta_2=0.999, epsilon=1e-08, schedule_decay=0.004)\n",
    "model.compile(loss='categorical_crossentropy', optimizer=Nadam, metrics=['accuracy'])\n",
    "\n",
    "history  = model.fit(X_train_encoded_padded_words,y_train, epochs = 5, batch_size=32, verbose=1, validation_data=(X_val_encoded_padded_words, y_val))"
   ]
  },
  {
   "cell_type": "code",
   "execution_count": 17,
   "id": "6b866c85-ec5d-4b23-a85b-dd7567a9a5f3",
   "metadata": {},
   "outputs": [],
   "source": [
    "# save the model\n",
    "model.save(\"Intent_Classification.h5\")"
   ]
  },
  {
   "cell_type": "code",
   "execution_count": 18,
   "id": "6aadba9f-7ba3-4ccf-a7e7-d15a9e8110c1",
   "metadata": {},
   "outputs": [
    {
     "data": {
      "image/png": "[encoded data removed]",
      "text/plain": [
       "<Figure size 432x288 with 1 Axes>"
      ]
     },
     "metadata": {
      "needs_background": "light"
     },
     "output_type": "display_data"
    }
   ],
   "source": [
    "\n",
    "#loss\n",
    "from matplotlib import pyplot as plt\n",
    "plt.plot(history.history['loss'])\n",
    "plt.plot(history.history['val_loss'])\n",
    "plt.title('model loss')\n",
    "plt.ylabel('loss')\n",
    "plt.xlabel('epoch')\n",
    "plt.legend(['train', 'validation'], loc='upper right')\n",
    "plt.show()"
   ]
  },
  {
   "cell_type": "code",
   "execution_count": 19,
   "id": "36be2d66-0c53-4fc7-a01a-ec1d81f38e58",
   "metadata": {},
   "outputs": [
    {
     "data": {
      "image/png": "[encoded data removed]",
      "text/plain": [
       "<Figure size 432x288 with 1 Axes>"
      ]
     },
     "metadata": {
      "needs_background": "light"
     },
     "output_type": "display_data"
    }
   ],
   "source": [
    "\n",
    "#accuracy\n",
    "from matplotlib import pyplot as plt\n",
    "plt.plot(history.history['accuracy'])\n",
    "plt.plot(history.history['val_accuracy'])\n",
    "plt.title('model accuracy')\n",
    "plt.ylabel('accuracy')\n",
    "plt.xlabel('epoch')\n",
    "plt.legend(['train', 'validation'], loc='lower right')\n",
    "plt.show()"
   ]
  },
  {
   "cell_type": "code",
   "execution_count": 20,
   "id": "e6826d74-52bf-44b1-a716-3e24e73089dd",
   "metadata": {},
   "outputs": [
    {
     "name": "stdout",
     "output_type": "stream",
     "text": [
      "52/52 [==============================] - 8s 157ms/step - loss: 0.3592 - accuracy: 0.8906\n"
     ]
    },
    {
     "data": {
      "text/plain": [
       "[0.3591611683368683, 0.8906440138816833]"
      ]
     },
     "execution_count": 20,
     "metadata": {},
     "output_type": "execute_result"
    }
   ],
   "source": [
    "model.evaluate(X_val_encoded_padded_words, y_val)"
   ]
  },
  {
   "cell_type": "code",
   "execution_count": 25,
   "id": "d31dbdc7-8d61-46fa-a6e4-3670e49f0673",
   "metadata": {},
   "outputs": [
    {
     "data": {
      "text/plain": [
       "'flight'"
      ]
     },
     "execution_count": 25,
     "metadata": {},
     "output_type": "execute_result"
    }
   ],
   "source": [
    "sentence = \"find me a flight that flies from memphis to tacoma\"\n",
    "tokens = Tokenizer.texts_to_sequences([sentence])\n",
    "tokens = pad_sequences(tokens, maxlen = 6000)\n",
    "prediction = model.predict(np.array(tokens))\n",
    "pred = np.argmax(prediction)\n",
    "classes[pred]"
   ]
  },
  {
   "cell_type": "code",
   "execution_count": null,
   "id": "cce5c823-de2d-4be2-aa21-68e351d89499",
   "metadata": {},
   "outputs": [],
   "source": []
  }
 ],
 "metadata": {
  "kernelspec": {
   "display_name": "Python 3 (ipykernel)",
   "language": "python",
   "name": "python3"
  },
  "language_info": {
   "codemirror_mode": {
    "name": "ipython",
    "version": 3
   },
   "file_extension": ".py",
   "mimetype": "text/x-python",
   "name": "python",
   "nbconvert_exporter": "python",
   "pygments_lexer": "ipython3",
   "version": "3.8.12"
  }
 },
 "nbformat": 4,
 "nbformat_minor": 5
}
