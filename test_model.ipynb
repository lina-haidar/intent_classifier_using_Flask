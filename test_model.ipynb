{
 "cells": [
  {
   "cell_type": "code",
   "execution_count": 145,
   "id": "5be3da7a-9ba5-4cca-aaa7-c54b1de1d23a",
   "metadata": {},
   "outputs": [],
   "source": [
    "import os\n",
    "import numpy as np\n",
    "import pandas as pd\n",
    "import matplotlib.pyplot as plt\n",
    "from sklearn.utils import shuffle\n",
    "import tensorflow as tf\n",
    "from tensorflow import keras\n",
    "from tensorflow.keras.layers import LSTM, Dense, Bidirectional, Dropout, Dense, Activation, Flatten, Embedding\n",
    "from tensorflow.keras.preprocessing.text import Tokenizer\n",
    "from tensorflow.keras.preprocessing import sequence\n",
    "from tensorflow.keras.preprocessing.sequence import pad_sequences\n",
    "from tensorflow.keras.models import Sequential,Model,load_model\n",
    "from tensorflow.keras.optimizers import SGD"
   ]
  },
  {
   "cell_type": "code",
   "execution_count": 146,
   "id": "aaafd545-09d3-44fa-baac-7969b273df2c",
   "metadata": {},
   "outputs": [],
   "source": [
    "classes = ['abbreviation', 'aircraft', 'aircraft+flight+flight_no', 'airfare',\n",
    "       'airfare+flight', 'airfare+flight_time', 'airline', 'airline+flight_no',\n",
    "       'airport', 'capacity', 'cheapest', 'city', 'day_name', 'distance',\n",
    "       'flight', 'flight+airfare', 'flight+airline', 'flight_no',\n",
    "       'flight_no+airline', 'flight_time', 'ground_fare', 'ground_service',\n",
    "       'ground_service+ground_fare', 'meal', 'quantity', 'restriction']"
   ]
  },
  {
   "cell_type": "code",
   "execution_count": 147,
   "id": "c42ddfca-d111-4801-8c68-77b974d5a070",
   "metadata": {},
   "outputs": [],
   "source": [
    "\n",
    "# load a saved model\n",
    "from numpy import loadtxt\n",
    "from keras.models import load_model\n",
    " \n",
    "# load model\n",
    "model = load_model('Intent_Classification.h5')\n"
   ]
  },
  {
   "cell_type": "code",
   "execution_count": 148,
   "id": "2f2852d0-bf09-4131-9e57-af3a2c335b70",
   "metadata": {
    "tags": []
   },
   "outputs": [],
   "source": [
    " \n",
    "#Tokenizer_vocab_size = len(Tokenizer.word_index) + 1\n",
    "\n",
    "Tokenizer = Tokenizer()\n",
    "\n"
   ]
  },
  {
   "cell_type": "code",
   "execution_count": 149,
   "id": "02edbf39-b001-4625-bbb2-4040b206f365",
   "metadata": {},
   "outputs": [],
   "source": [
    "\n",
    "sentence = \"find me a flight that flies from memphis to tacoma\"\n",
    "Tokenizer.fit_on_texts([sentence])"
   ]
  },
  {
   "cell_type": "code",
   "execution_count": 150,
   "id": "39b4f0c8-4d1e-47c3-b2bc-a466a36b4cea",
   "metadata": {},
   "outputs": [],
   "source": [
    "tokens = Tokenizer.texts_to_sequences(texts=[sentence])"
   ]
  },
  {
   "cell_type": "code",
   "execution_count": 151,
   "id": "3bea1cb0-b932-4d90-978d-bf7cf8213e45",
   "metadata": {},
   "outputs": [],
   "source": [
    "\n",
    "tokens = pad_sequences(tokens, maxlen = 6000)"
   ]
  },
  {
   "cell_type": "code",
   "execution_count": 152,
   "id": "23b3b0d2-6f58-4080-9869-193d2a91c5c4",
   "metadata": {},
   "outputs": [
    {
     "name": "stdout",
     "output_type": "stream",
     "text": [
      "WARNING:tensorflow:Model was constructed with shape (None, 4000) for input KerasTensor(type_spec=TensorSpec(shape=(None, 4000), dtype=tf.float32, name='embedding_1_input'), name='embedding_1_input', description=\"created by layer 'embedding_1_input'\"), but it was called on an input with incompatible shape (None, 6000).\n",
      "[0. 0. 1.]\n",
      "['airline', 'flight_time', 'flight']\n",
      "{'flight': 1.0, 'airline': 0.0, 'flight_time': 0.0}\n"
     ]
    }
   ],
   "source": [
    "\n",
    "\n",
    "prediction = model.predict(np.array(tokens))\n",
    "pred = np.argmax(prediction)\n",
    "\n",
    "# get index of the top 3 intent prediction\n",
    "index = np.argpartition(prediction[0], -3)[-3:] \n",
    "\n",
    "# get probabilities of the top 3 intent prediction\n",
    "prob =np.round( prediction[0][index] , 5) \n",
    "print (prob)\n",
    "# get labels of the top 3 intent prediction\n",
    "labels = [ classes[i] for i in index ]\n",
    "print (labels)\n",
    "\n",
    "\n",
    "response = dict(zip(labels, prob))\n",
    "sorted_response = dict(sorted(response.items(), key = lambda x: x[1], reverse = True))\n",
    "\n",
    "print(sorted_response)\n",
    "# [ 6, 19, 14]\n",
    "#classes[19]\n",
    "#np.round(prediction,6)"
   ]
  },
  {
   "cell_type": "code",
   "execution_count": null,
   "id": "2a5834e4-ffd7-40f2-9ad2-7ed10e4d0f02",
   "metadata": {},
   "outputs": [],
   "source": []
  }
 ],
 "metadata": {
  "kernelspec": {
   "display_name": "Python 3 (ipykernel)",
   "language": "python",
   "name": "python3"
  },
  "language_info": {
   "codemirror_mode": {
    "name": "ipython",
    "version": 3
   },
   "file_extension": ".py",
   "mimetype": "text/x-python",
   "name": "python",
   "nbconvert_exporter": "python",
   "pygments_lexer": "ipython3",
   "version": "3.8.12"
  }
 },
 "nbformat": 4,
 "nbformat_minor": 5
}
